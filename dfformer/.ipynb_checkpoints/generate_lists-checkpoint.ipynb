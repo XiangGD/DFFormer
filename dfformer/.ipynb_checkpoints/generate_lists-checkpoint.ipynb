{
 "cells": [
  {
   "cell_type": "markdown",
   "id": "4cd01907",
   "metadata": {},
   "source": [
    "# 处理数据集，分割成原图、篡改图和GT"
   ]
  },
  {
   "cell_type": "code",
   "execution_count": 1,
   "id": "5de073de",
   "metadata": {},
   "outputs": [],
   "source": [
    "import os\n",
    "from glob import glob\n",
    "from PIL import Image\n",
    "import shutil"
   ]
  },
  {
   "cell_type": "code",
   "execution_count": 2,
   "id": "005430c7",
   "metadata": {},
   "outputs": [],
   "source": [
    "Au_save_path = '/home/eva/datasets/IMD2020/Au'\n",
    "Tp_save_path = '/home/eva/datasets/IMD2020/Tp'\n",
    "Gt_save_path = '/home/eva/datasets/IMD2020/Gt'\n",
    "os.makedirs(Au_save_path, exist_ok=True)\n",
    "os.makedirs(Tp_save_path, exist_ok=True)\n",
    "os.makedirs(Gt_save_path, exist_ok=True)"
   ]
  },
  {
   "cell_type": "code",
   "execution_count": 3,
   "id": "75639593",
   "metadata": {},
   "outputs": [],
   "source": [
    "#IMD2020\n",
    "def get_IMD2020_list(root_path,save_path):\n",
    "    filenames = glob(os.path.join(root_path, '*'))\n",
    "    print(len(filenames))\n",
    "    for i in range(len(filenames)):\n",
    "        samples = os.listdir(filenames[i])\n",
    "        for sample in samples:\n",
    "            splits = sample.split('.')[0].split('_')\n",
    "            if splits[-1]=='orig':\n",
    "                target = os.path.join(save_path,'Au',sample)\n",
    "            elif splits[-1]=='mask':                \n",
    "                target = os.path.join(save_path,'Gt', sample)\n",
    "            else:                \n",
    "                target = os.path.join(save_path,'Tp',sample)\n",
    "            source = os.path.join(filenames[i],sample)\n",
    "            shutil.copy2(source,target)\n",
    "    return 'down!'"
   ]
  },
  {
   "cell_type": "code",
   "execution_count": 4,
   "id": "30c28764",
   "metadata": {
    "scrolled": false
   },
   "outputs": [
    {
     "name": "stdout",
     "output_type": "stream",
     "text": [
      "414\n"
     ]
    },
    {
     "data": {
      "text/plain": [
       "'down!'"
      ]
     },
     "execution_count": 4,
     "metadata": {},
     "output_type": "execute_result"
    }
   ],
   "source": [
    "root_path = '/home/eva/datasets/IMD2020/manipulated'\n",
    "save_path = '/home/eva/datasets/IMD2020'\n",
    "get_IMD2020_list(root_path,save_path) "
   ]
  }
 ],
 "metadata": {
  "kernelspec": {
   "display_name": "Python 3",
   "language": "python",
   "name": "python3"
  },
  "language_info": {
   "codemirror_mode": {
    "name": "ipython",
    "version": 3
   },
   "file_extension": ".py",
   "mimetype": "text/x-python",
   "name": "python",
   "nbconvert_exporter": "python",
   "pygments_lexer": "ipython3",
   "version": "3.6.13"
  }
 },
 "nbformat": 4,
 "nbformat_minor": 5
}
